{
 "cells": [
  {
   "cell_type": "code",
   "execution_count": null,
   "id": "dcb1bb16-95d6-4ea8-89a5-19ce6af270a4",
   "metadata": {},
   "outputs": [],
   "source": []
  }
 ],
 "metadata": {
  "kernelspec": {
   "display_name": "",
   "name": ""
  },
  "language_info": {
   "name": ""
  }
 },
 "nbformat": 4,
 "nbformat_minor": 5
}
