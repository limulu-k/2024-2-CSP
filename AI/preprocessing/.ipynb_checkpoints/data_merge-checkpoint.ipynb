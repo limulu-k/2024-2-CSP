{
 "cells": [
  {
   "cell_type": "code",
   "execution_count": 1,
   "metadata": {},
   "outputs": [],
   "source": [
    "import pandas as pd\n",
    "import os\n",
    "import numpy as np"
   ]
  },
  {
   "cell_type": "code",
   "execution_count": 2,
   "metadata": {},
   "outputs": [
    {
     "name": "stdout",
     "output_type": "stream",
     "text": [
      "file path : C:\\Users\\limul\\Desktop\\College\\2_grade\\2_semester\\computational_statistics\\teamProject\\2024-2-CSP\\AI\\data_preprocessing\\..\\..\\newsData\\data_processing\\final_data_transformed.csv\n",
      "['Week_Num', 'Date_Time', 'Article_Num', 'Polution', 'Enviroment_Polution', 'Biodiversity_Loss', 'Acid_Rain', 'Water_Pollution', 'Climate_Crisis', 'Accelerated_Global_Warming', 'Ozone_Layer_Depletion', 'Hazardous_Substance_Leakage', 'Carbon_Dioxide', 'Weekly_News_Count', 'News_Ratio']\n",
      "file path : C:\\Users\\limul\\Desktop\\College\\2_grade\\2_semester\\computational_statistics\\teamProject\\2024-2-CSP\\AI\\data_preprocessing\\..\\..\\ClimateDataTeam\\climate_data\\merged_weekly_avg_temp.csv\n",
      "['datetime', 'tempmax', 'tempmin', 'temp', 'dew', 'humidity', 'precip', 'windspeed', 'sealevelpressure', 'moonphase']\n"
     ]
    }
   ],
   "source": [
    "# 데이터 로드\n",
    "# 뉴스 데이터 로드\n",
    "datasPath = os.path.join(os.getcwd(), \"..\", \"..\", \"NewData\", \"Weekly_Air_Pollutants.csv\")\n",
    "print(f\"file path : {datasPath}\")\n",
    "news_data = pd.read_csv(datasPath, encoding='utf-8')\n",
    "news_data.head()\n",
    "news_vars_list = list(news_data.columns)\n",
    "print(news_vars_list)\n",
    "\n",
    "# 기후 데이터 로드\n",
    "datasPath = os.path.join(os.getcwd(), \"..\", \"..\", \"ClimateDataTeam\", \"climate_data\", \"merged_weekly_avg_temp.csv\")\n",
    "print(f\"file path : {datasPath}\")\n",
    "climate_data = pd.read_csv(datasPath, encoding='utf-8')\n",
    "climate_data.head()\n",
    "climate_vars_list = list(climate_data.columns)\n",
    "print(climate_vars_list)"
   ]
  },
  {
   "cell_type": "code",
   "execution_count": 3,
   "metadata": {},
   "outputs": [
    {
     "name": "stdout",
     "output_type": "stream",
     "text": [
      "   Week_Num   datetime  Article_Num  Polution  Enviroment_Polution  \\\n",
      "0         1 2000-01-02           10        12                    0   \n",
      "1         2 2000-01-09           28        33                    0   \n",
      "2         3 2000-01-16           16        14                    0   \n",
      "3         4 2000-01-23           19        24                    0   \n",
      "4         5 2000-01-30           10        16                    1   \n",
      "\n",
      "   Biodiversity_Loss  Acid_Rain  Water_Pollution  Climate_Crisis  \\\n",
      "0                  0          5                0               0   \n",
      "1                  0          4                0               0   \n",
      "2                  0          1                0               0   \n",
      "3                  0          2                0               0   \n",
      "4                  0          3                0               0   \n",
      "\n",
      "   Accelerated_Global_Warming  ...  News_Ratio    tempmax    tempmin  \\\n",
      "0                           0  ...    0.000336  47.600000  29.300000   \n",
      "1                           0  ...    0.000942  35.714286  21.342857   \n",
      "2                           0  ...    0.000538  38.871429  24.857143   \n",
      "3                           0  ...    0.000639  35.242857  18.414286   \n",
      "4                           0  ...    0.000336  32.000000  14.128571   \n",
      "\n",
      "        temp        dew   humidity    precip  windspeed  sealevelpressure  \\\n",
      "0  41.450000  31.500000  68.350000  0.117000  10.050000       1020.850000   \n",
      "1  29.128571  19.485714  68.742857  0.109143   9.971429       1022.157143   \n",
      "2  32.785714  23.485714  69.671429  0.037714  10.000000       1022.942857   \n",
      "3  26.142857  15.528571  65.642857  0.019571   9.742857       1027.285714   \n",
      "4  23.357143  10.900000  60.342857  0.003857  10.800000       1032.157143   \n",
      "\n",
      "   moonphase  \n",
      "0   0.830000  \n",
      "1   0.550000  \n",
      "2   0.220000  \n",
      "3   0.461429  \n",
      "4   0.697143  \n",
      "\n",
      "[5 rows x 24 columns]\n",
      "병합된 데이터가 C:\\Users\\limul\\Desktop\\College\\2_grade\\2_semester\\computational_statistics\\teamProject\\2024-2-CSP\\AI\\data_preprocessing\\merged_final_data.csv에 저장되었습니다.\n"
     ]
    }
   ],
   "source": [
    "# 같은 일자 매칭 데이터\n",
    "\n",
    "# datetime 열 이름 통일 (두 파일의 열 이름이 다른 경우 처리)\n",
    "news_data = news_data.rename(columns={'Date_Time': 'datetime'})\n",
    "\n",
    "# datetime 열을 datetime 형식으로 변환 (필요 시)\n",
    "news_data['datetime'] = pd.to_datetime(news_data['datetime'])\n",
    "climate_data['datetime'] = pd.to_datetime(climate_data['datetime'])\n",
    "\n",
    "# 데이터 병합 (datetime을 기준으로)\n",
    "merged_data = pd.merge(news_data, climate_data, on='datetime', how='inner')  # 'inner'로 공통된 datetime만 병합\n",
    "\n",
    "# 병합된 데이터 확인\n",
    "print(merged_data.head())\n",
    "\n",
    "# 병합된 데이터 저장\n",
    "output_file = os.path.join(os.getcwd(), \"merged_final_data.csv\")\n",
    "merged_data.to_csv(output_file, index=False, encoding='utf-8-sig')\n",
    "\n",
    "print(f\"병합된 데이터가 {output_file}에 저장되었습니다.\")"
   ]
  },
  {
   "cell_type": "code",
   "execution_count": 4,
   "metadata": {},
   "outputs": [
    {
     "name": "stdout",
     "output_type": "stream",
     "text": [
      "병합된 데이터가 C:\\Users\\limul\\Desktop\\College\\2_grade\\2_semester\\computational_statistics\\teamProject\\2024-2-CSP\\AI\\data_preprocessing\\merged_final_data_7_shifted.csv에 저장되었습니다.\n",
      "병합된 데이터가 C:\\Users\\limul\\Desktop\\College\\2_grade\\2_semester\\computational_statistics\\teamProject\\2024-2-CSP\\AI\\data_preprocessing\\merged_final_data_14_shifted.csv에 저장되었습니다.\n",
      "병합된 데이터가 C:\\Users\\limul\\Desktop\\College\\2_grade\\2_semester\\computational_statistics\\teamProject\\2024-2-CSP\\AI\\data_preprocessing\\merged_final_data_21_shifted.csv에 저장되었습니다.\n",
      "병합된 데이터가 C:\\Users\\limul\\Desktop\\College\\2_grade\\2_semester\\computational_statistics\\teamProject\\2024-2-CSP\\AI\\data_preprocessing\\merged_final_data_28_shifted.csv에 저장되었습니다.\n",
      "병합된 데이터가 C:\\Users\\limul\\Desktop\\College\\2_grade\\2_semester\\computational_statistics\\teamProject\\2024-2-CSP\\AI\\data_preprocessing\\merged_final_data_35_shifted.csv에 저장되었습니다.\n",
      "병합된 데이터가 C:\\Users\\limul\\Desktop\\College\\2_grade\\2_semester\\computational_statistics\\teamProject\\2024-2-CSP\\AI\\data_preprocessing\\merged_final_data_42_shifted.csv에 저장되었습니다.\n",
      "병합된 데이터가 C:\\Users\\limul\\Desktop\\College\\2_grade\\2_semester\\computational_statistics\\teamProject\\2024-2-CSP\\AI\\data_preprocessing\\merged_final_data_49_shifted.csv에 저장되었습니다.\n",
      "병합된 데이터가 C:\\Users\\limul\\Desktop\\College\\2_grade\\2_semester\\computational_statistics\\teamProject\\2024-2-CSP\\AI\\data_preprocessing\\merged_final_data_56_shifted.csv에 저장되었습니다.\n",
      "병합된 데이터가 C:\\Users\\limul\\Desktop\\College\\2_grade\\2_semester\\computational_statistics\\teamProject\\2024-2-CSP\\AI\\data_preprocessing\\merged_final_data_63_shifted.csv에 저장되었습니다.\n",
      "병합된 데이터가 C:\\Users\\limul\\Desktop\\College\\2_grade\\2_semester\\computational_statistics\\teamProject\\2024-2-CSP\\AI\\data_preprocessing\\merged_final_data_70_shifted.csv에 저장되었습니다.\n",
      "병합된 데이터가 C:\\Users\\limul\\Desktop\\College\\2_grade\\2_semester\\computational_statistics\\teamProject\\2024-2-CSP\\AI\\data_preprocessing\\merged_final_data_77_shifted.csv에 저장되었습니다.\n",
      "병합된 데이터가 C:\\Users\\limul\\Desktop\\College\\2_grade\\2_semester\\computational_statistics\\teamProject\\2024-2-CSP\\AI\\data_preprocessing\\merged_final_data_84_shifted.csv에 저장되었습니다.\n",
      "병합된 데이터가 C:\\Users\\limul\\Desktop\\College\\2_grade\\2_semester\\computational_statistics\\teamProject\\2024-2-CSP\\AI\\data_preprocessing\\merged_final_data_91_shifted.csv에 저장되었습니다.\n",
      "병합된 데이터가 C:\\Users\\limul\\Desktop\\College\\2_grade\\2_semester\\computational_statistics\\teamProject\\2024-2-CSP\\AI\\data_preprocessing\\merged_final_data_98_shifted.csv에 저장되었습니다.\n",
      "병합된 데이터가 C:\\Users\\limul\\Desktop\\College\\2_grade\\2_semester\\computational_statistics\\teamProject\\2024-2-CSP\\AI\\data_preprocessing\\merged_final_data_105_shifted.csv에 저장되었습니다.\n",
      "병합된 데이터가 C:\\Users\\limul\\Desktop\\College\\2_grade\\2_semester\\computational_statistics\\teamProject\\2024-2-CSP\\AI\\data_preprocessing\\merged_final_data_112_shifted.csv에 저장되었습니다.\n",
      "병합된 데이터가 C:\\Users\\limul\\Desktop\\College\\2_grade\\2_semester\\computational_statistics\\teamProject\\2024-2-CSP\\AI\\data_preprocessing\\merged_final_data_119_shifted.csv에 저장되었습니다.\n",
      "병합된 데이터가 C:\\Users\\limul\\Desktop\\College\\2_grade\\2_semester\\computational_statistics\\teamProject\\2024-2-CSP\\AI\\data_preprocessing\\merged_final_data_126_shifted.csv에 저장되었습니다.\n",
      "병합된 데이터가 C:\\Users\\limul\\Desktop\\College\\2_grade\\2_semester\\computational_statistics\\teamProject\\2024-2-CSP\\AI\\data_preprocessing\\merged_final_data_133_shifted.csv에 저장되었습니다.\n",
      "병합된 데이터가 C:\\Users\\limul\\Desktop\\College\\2_grade\\2_semester\\computational_statistics\\teamProject\\2024-2-CSP\\AI\\data_preprocessing\\merged_final_data_140_shifted.csv에 저장되었습니다.\n",
      "병합된 데이터가 C:\\Users\\limul\\Desktop\\College\\2_grade\\2_semester\\computational_statistics\\teamProject\\2024-2-CSP\\AI\\data_preprocessing\\merged_final_data_147_shifted.csv에 저장되었습니다.\n",
      "병합된 데이터가 C:\\Users\\limul\\Desktop\\College\\2_grade\\2_semester\\computational_statistics\\teamProject\\2024-2-CSP\\AI\\data_preprocessing\\merged_final_data_154_shifted.csv에 저장되었습니다.\n",
      "병합된 데이터가 C:\\Users\\limul\\Desktop\\College\\2_grade\\2_semester\\computational_statistics\\teamProject\\2024-2-CSP\\AI\\data_preprocessing\\merged_final_data_161_shifted.csv에 저장되었습니다.\n",
      "병합된 데이터가 C:\\Users\\limul\\Desktop\\College\\2_grade\\2_semester\\computational_statistics\\teamProject\\2024-2-CSP\\AI\\data_preprocessing\\merged_final_data_168_shifted.csv에 저장되었습니다.\n",
      "병합된 데이터가 C:\\Users\\limul\\Desktop\\College\\2_grade\\2_semester\\computational_statistics\\teamProject\\2024-2-CSP\\AI\\data_preprocessing\\merged_final_data_175_shifted.csv에 저장되었습니다.\n",
      "병합된 데이터가 C:\\Users\\limul\\Desktop\\College\\2_grade\\2_semester\\computational_statistics\\teamProject\\2024-2-CSP\\AI\\data_preprocessing\\merged_final_data_182_shifted.csv에 저장되었습니다.\n",
      "병합된 데이터가 C:\\Users\\limul\\Desktop\\College\\2_grade\\2_semester\\computational_statistics\\teamProject\\2024-2-CSP\\AI\\data_preprocessing\\merged_final_data_189_shifted.csv에 저장되었습니다.\n",
      "병합된 데이터가 C:\\Users\\limul\\Desktop\\College\\2_grade\\2_semester\\computational_statistics\\teamProject\\2024-2-CSP\\AI\\data_preprocessing\\merged_final_data_196_shifted.csv에 저장되었습니다.\n",
      "병합된 데이터가 C:\\Users\\limul\\Desktop\\College\\2_grade\\2_semester\\computational_statistics\\teamProject\\2024-2-CSP\\AI\\data_preprocessing\\merged_final_data_203_shifted.csv에 저장되었습니다.\n",
      "병합된 데이터가 C:\\Users\\limul\\Desktop\\College\\2_grade\\2_semester\\computational_statistics\\teamProject\\2024-2-CSP\\AI\\data_preprocessing\\merged_final_data_210_shifted.csv에 저장되었습니다.\n",
      "병합된 데이터가 C:\\Users\\limul\\Desktop\\College\\2_grade\\2_semester\\computational_statistics\\teamProject\\2024-2-CSP\\AI\\data_preprocessing\\merged_final_data_217_shifted.csv에 저장되었습니다.\n",
      "병합된 데이터가 C:\\Users\\limul\\Desktop\\College\\2_grade\\2_semester\\computational_statistics\\teamProject\\2024-2-CSP\\AI\\data_preprocessing\\merged_final_data_224_shifted.csv에 저장되었습니다.\n",
      "병합된 데이터가 C:\\Users\\limul\\Desktop\\College\\2_grade\\2_semester\\computational_statistics\\teamProject\\2024-2-CSP\\AI\\data_preprocessing\\merged_final_data_231_shifted.csv에 저장되었습니다.\n",
      "병합된 데이터가 C:\\Users\\limul\\Desktop\\College\\2_grade\\2_semester\\computational_statistics\\teamProject\\2024-2-CSP\\AI\\data_preprocessing\\merged_final_data_238_shifted.csv에 저장되었습니다.\n",
      "병합된 데이터가 C:\\Users\\limul\\Desktop\\College\\2_grade\\2_semester\\computational_statistics\\teamProject\\2024-2-CSP\\AI\\data_preprocessing\\merged_final_data_245_shifted.csv에 저장되었습니다.\n",
      "병합된 데이터가 C:\\Users\\limul\\Desktop\\College\\2_grade\\2_semester\\computational_statistics\\teamProject\\2024-2-CSP\\AI\\data_preprocessing\\merged_final_data_252_shifted.csv에 저장되었습니다.\n",
      "병합된 데이터가 C:\\Users\\limul\\Desktop\\College\\2_grade\\2_semester\\computational_statistics\\teamProject\\2024-2-CSP\\AI\\data_preprocessing\\merged_final_data_259_shifted.csv에 저장되었습니다.\n",
      "병합된 데이터가 C:\\Users\\limul\\Desktop\\College\\2_grade\\2_semester\\computational_statistics\\teamProject\\2024-2-CSP\\AI\\data_preprocessing\\merged_final_data_266_shifted.csv에 저장되었습니다.\n",
      "병합된 데이터가 C:\\Users\\limul\\Desktop\\College\\2_grade\\2_semester\\computational_statistics\\teamProject\\2024-2-CSP\\AI\\data_preprocessing\\merged_final_data_273_shifted.csv에 저장되었습니다.\n",
      "병합된 데이터가 C:\\Users\\limul\\Desktop\\College\\2_grade\\2_semester\\computational_statistics\\teamProject\\2024-2-CSP\\AI\\data_preprocessing\\merged_final_data_280_shifted.csv에 저장되었습니다.\n",
      "병합된 데이터가 C:\\Users\\limul\\Desktop\\College\\2_grade\\2_semester\\computational_statistics\\teamProject\\2024-2-CSP\\AI\\data_preprocessing\\merged_final_data_287_shifted.csv에 저장되었습니다.\n",
      "병합된 데이터가 C:\\Users\\limul\\Desktop\\College\\2_grade\\2_semester\\computational_statistics\\teamProject\\2024-2-CSP\\AI\\data_preprocessing\\merged_final_data_294_shifted.csv에 저장되었습니다.\n",
      "병합된 데이터가 C:\\Users\\limul\\Desktop\\College\\2_grade\\2_semester\\computational_statistics\\teamProject\\2024-2-CSP\\AI\\data_preprocessing\\merged_final_data_301_shifted.csv에 저장되었습니다.\n",
      "병합된 데이터가 C:\\Users\\limul\\Desktop\\College\\2_grade\\2_semester\\computational_statistics\\teamProject\\2024-2-CSP\\AI\\data_preprocessing\\merged_final_data_308_shifted.csv에 저장되었습니다.\n",
      "병합된 데이터가 C:\\Users\\limul\\Desktop\\College\\2_grade\\2_semester\\computational_statistics\\teamProject\\2024-2-CSP\\AI\\data_preprocessing\\merged_final_data_315_shifted.csv에 저장되었습니다.\n",
      "병합된 데이터가 C:\\Users\\limul\\Desktop\\College\\2_grade\\2_semester\\computational_statistics\\teamProject\\2024-2-CSP\\AI\\data_preprocessing\\merged_final_data_322_shifted.csv에 저장되었습니다.\n",
      "병합된 데이터가 C:\\Users\\limul\\Desktop\\College\\2_grade\\2_semester\\computational_statistics\\teamProject\\2024-2-CSP\\AI\\data_preprocessing\\merged_final_data_329_shifted.csv에 저장되었습니다.\n",
      "병합된 데이터가 C:\\Users\\limul\\Desktop\\College\\2_grade\\2_semester\\computational_statistics\\teamProject\\2024-2-CSP\\AI\\data_preprocessing\\merged_final_data_336_shifted.csv에 저장되었습니다.\n",
      "병합된 데이터가 C:\\Users\\limul\\Desktop\\College\\2_grade\\2_semester\\computational_statistics\\teamProject\\2024-2-CSP\\AI\\data_preprocessing\\merged_final_data_343_shifted.csv에 저장되었습니다.\n"
     ]
    }
   ],
   "source": [
    "# n_day 만큼 기후 데이터를 뒤로 매칭\n",
    "# n일 후로 병합할 일 수 설정\n",
    "for x in range(1, 50):\n",
    "    n_days = 7*x\n",
    "    \n",
    "    # 데이터 로드\n",
    "    datasPath_news = os.path.join(os.getcwd(), \"..\", \"..\", \"newsData\", \"data_processing\", \"final_data_transformed.csv\")\n",
    "    news_data = pd.read_csv(datasPath_news, encoding='utf-8')\n",
    "    news_data = news_data.rename(columns={'Date_Time': 'datetime'})  # 열 이름 통일\n",
    "    news_data['datetime'] = pd.to_datetime(news_data['datetime'])  # datetime 변환\n",
    "    \n",
    "    datasPath_climate = os.path.join(os.getcwd(), \"..\", \"..\", \"ClimateDataTeam\", \"climate_data\", \"merged_weekly_avg_temp.csv\")\n",
    "    climate_data = pd.read_csv(datasPath_climate, encoding='utf-8')\n",
    "    climate_data['datetime'] = pd.to_datetime(climate_data['datetime'])  # datetime 변환\n",
    "    \n",
    "    # 기후 데이터의 날짜를 n일 뒤로 이동\n",
    "    climate_data['shifted_datetime'] = climate_data['datetime'] + pd.Timedelta(days=n_days)\n",
    "    \n",
    "    # 데이터 병합 (shifted_datetime과 news_data의 datetime을 기준으로)\n",
    "    merged_data = pd.merge(news_data, climate_data, left_on='datetime', right_on='shifted_datetime', how='inner')\n",
    "    \n",
    "    # 불필요한 열 제거 (예: shifted_datetime)\n",
    "    merged_data = merged_data.drop(columns=['shifted_datetime'])\n",
    "    \n",
    "    # 병합된 데이터 확인 및 저장\n",
    "    file_name = \"merged_final_data_\"+str(n_days)+\"_shifted.csv\"\n",
    "    output_file = os.path.join(os.getcwd(), file_name)\n",
    "    merged_data.to_csv(output_file, index=False, encoding='utf-8-sig')\n",
    "    \n",
    "    print(f\"병합된 데이터가 {output_file}에 저장되었습니다.\")"
   ]
  },
  {
   "cell_type": "code",
   "execution_count": null,
   "metadata": {},
   "outputs": [],
   "source": []
  }
 ],
 "metadata": {
  "kernelspec": {
   "display_name": "Python 3 (ipykernel)",
   "language": "python",
   "name": "python3"
  },
  "language_info": {
   "codemirror_mode": {
    "name": "ipython",
    "version": 3
   },
   "file_extension": ".py",
   "mimetype": "text/x-python",
   "name": "python",
   "nbconvert_exporter": "python",
   "pygments_lexer": "ipython3",
   "version": "3.12.7"
  }
 },
 "nbformat": 4,
 "nbformat_minor": 4
}
