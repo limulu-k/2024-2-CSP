{
 "cells": [
  {
   "cell_type": "markdown",
   "metadata": {},
   "source": [
    "<h3>Tensor Flow를 활용한 데이터 회귀 분석</h3>\n",
    "\n",
    "텐서플로우(TensorFlow)를 사용하여 기후 데이터를 기반으로 뉴스 수를 예측하는 코드"
   ]
  },
  {
   "cell_type": "code",
   "execution_count": 1,
   "metadata": {},
   "outputs": [],
   "source": [
    "import pandas as pd\n",
    "import os\n",
    "import numpy as np\n",
    "import tensorflow as tf\n",
    "from tensorflow.keras.models import Sequential\n",
    "from tensorflow.keras.layers import Dense\n",
    "from sklearn.model_selection import train_test_split\n",
    "from sklearn.preprocessing import StandardScaler\n",
    "from sklearn.metrics import mean_squared_error, r2_score"
   ]
  },
  {
   "cell_type": "code",
   "execution_count": 5,
   "metadata": {},
   "outputs": [
    {
     "name": "stdout",
     "output_type": "stream",
     "text": [
      "file path : c:\\Users\\limul\\Desktop\\College\\2_grade\\2_semester\\computational_statistics\\teamProject\\2024-2-CSP\\AI\\made_by_LJW\\..\\data_preprocessing\\merged_final_data.csv\n",
      "['datetime', 'Article_Num', 'Polution', 'Enviroment_Polution', 'Biodiversity_Loss', 'Acid_Rain', 'Water_Pollution', 'Climate_Crisis', 'Accelerated_Global_Warming', 'Ozone_Layer_Depletion', 'Hazardous_Substance_Leakage', 'Carbon_Dioxide', 'Weekly_News_Count', 'News_Ratio', 'tempmax', 'tempmin', 'temp', 'dew', 'humidity', 'precip', 'windspeed', 'sealevelpressure', 'moonphase']\n"
     ]
    }
   ],
   "source": [
    "# 데이터 로드\n",
    "# 뉴스 데이터 로드\n",
    "datasPath = os.path.join(os.getcwd(), \"..\", \"data_preprocessing\", \"merged_final_data.csv\")\n",
    "print(f\"file path : {datasPath}\")\n",
    "data = pd.read_csv(datasPath, encoding='utf-8')\n",
    "\n",
    "# Week_Num 속성 제거\n",
    "data = data.drop(columns=['Week_Num'])\n",
    "\n",
    "data.head()\n",
    "data_vars_list = list(data.columns)\n",
    "\n",
    "print(data_vars_list)"
   ]
  },
  {
   "cell_type": "code",
   "execution_count": null,
   "metadata": {},
   "outputs": [],
   "source": []
  }
 ],
 "metadata": {
  "kernelspec": {
   "display_name": "Python 3",
   "language": "python",
   "name": "python3"
  },
  "language_info": {
   "codemirror_mode": {
    "name": "ipython",
    "version": 3
   },
   "file_extension": ".py",
   "mimetype": "text/x-python",
   "name": "python",
   "nbconvert_exporter": "python",
   "pygments_lexer": "ipython3",
   "version": "3.12.7"
  }
 },
 "nbformat": 4,
 "nbformat_minor": 2
}
