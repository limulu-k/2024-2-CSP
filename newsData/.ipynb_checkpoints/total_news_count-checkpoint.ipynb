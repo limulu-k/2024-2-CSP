{
 "cells": [
  {
   "cell_type": "code",
   "execution_count": 1,
   "id": "7bbad61d-c430-4b71-ba18-a003c02e4974",
   "metadata": {},
   "outputs": [],
   "source": [
    "import os\n",
    "import pandas as pd\n",
    "from datetime import datetime, timedelta"
   ]
  },
  {
   "cell_type": "code",
   "execution_count": 4,
   "id": "61100bf0-d675-416c-9074-05409b9ffd35",
   "metadata": {},
   "outputs": [
    {
     "name": "stdout",
     "output_type": "stream",
     "text": [
      "엑셀 파일이 'quarterly_summary_2000_2024.xlsx' 이름으로 저장되었습니다.\n"
     ]
    }
   ],
   "source": [
    "import pandas as pd\n",
    "from datetime import datetime, timedelta\n",
    "\n",
    "# 시작 연도와 종료 연도 설정\n",
    "start_year = 2000\n",
    "end_year = 2024\n",
    "\n",
    "# 분기별 기간 생성\n",
    "quarters = []\n",
    "current_date = datetime(start_year, 1, 1)\n",
    "end_date = datetime(end_year, 11, 1)  # 2024년 11월까지만 포함\n",
    "\n",
    "# 각 연도와 분기에 맞춰 3개월 단위로 설정\n",
    "while current_date < end_date:\n",
    "    # 다음 분기의 시작 달 설정\n",
    "    next_month = current_date.month + 3\n",
    "    next_year = current_date.year + (next_month - 1) // 12\n",
    "    next_month = (next_month - 1) % 12 + 1\n",
    "    \n",
    "    # 분기의 종료 날짜 계산\n",
    "    next_date = datetime(next_year, next_month, 1) - timedelta(days=1)\n",
    "\n",
    "    # 분기 차수와 기간 설정\n",
    "    quarter_number = f\"{current_date.year}년 {((current_date.month - 1) // 3) + 1}분기\"\n",
    "    period = f\"{current_date.strftime('%Y-%m-%d')} - {next_date.strftime('%Y-%m-%d')}\"\n",
    "    \n",
    "    # 결과에 추가\n",
    "    quarters.append({\n",
    "        \"분기 차수\": quarter_number,\n",
    "        \"기간\": period,\n",
    "        \"전체 갯수\": None  # 전체 갯수 초기값을 None으로 설정\n",
    "    })\n",
    "    \n",
    "    # 다음 분기로 이동\n",
    "    current_date = next_date + timedelta(days=1)\n",
    "\n",
    "# 데이터프레임 생성\n",
    "df_quarters = pd.DataFrame(quarters)\n",
    "\n",
    "# 엑셀 파일로 저장\n",
    "df_quarters.to_excel(\"count_quarterly_sum.xlsx\", index=False)\n",
    "\n",
    "print(\"엑셀 파일이 'count_quarterly_sum.xlsx' 이름으로 저장되었습니다.\")\n"
   ]
  },
  {
   "cell_type": "code",
   "execution_count": null,
   "id": "c8cf8f7b-9ff0-4b19-b6b6-9167f1fb0224",
   "metadata": {},
   "outputs": [],
   "source": []
  }
 ],
 "metadata": {
  "kernelspec": {
   "display_name": "Python 3 (ipykernel)",
   "language": "python",
   "name": "python3"
  },
  "language_info": {
   "codemirror_mode": {
    "name": "ipython",
    "version": 3
   },
   "file_extension": ".py",
   "mimetype": "text/x-python",
   "name": "python",
   "nbconvert_exporter": "python",
   "pygments_lexer": "ipython3",
   "version": "3.12.7"
  }
 },
 "nbformat": 4,
 "nbformat_minor": 5
}
