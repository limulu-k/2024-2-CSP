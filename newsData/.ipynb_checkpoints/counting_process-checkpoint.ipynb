{
 "cells": [
  {
   "cell_type": "code",
   "execution_count": 1,
   "id": "c9260d7e-7ae4-43f2-8716-16692b734ecb",
   "metadata": {},
   "outputs": [],
   "source": [
    "import os\n",
    "import pandas as pd\n",
    "from datetime import datetime, timedelta"
   ]
  },
  {
   "cell_type": "code",
   "execution_count": 2,
   "id": "df7b9b56-cc1a-42a2-9853-8f7489ebe949",
   "metadata": {
    "scrolled": true
   },
   "outputs": [
    {
     "name": "stdout",
     "output_type": "stream",
     "text": [
      "['C:\\\\Users\\\\limul\\\\Desktop\\\\College\\\\2_grade\\\\2_semester\\\\computational_statistics\\\\teamProject\\\\2024-2-CSP\\\\newsData\\\\filtered_datas\\\\.ipynb_checkpoints', 'C:\\\\Users\\\\limul\\\\Desktop\\\\College\\\\2_grade\\\\2_semester\\\\computational_statistics\\\\teamProject\\\\2024-2-CSP\\\\newsData\\\\filtered_datas\\\\Filtered_Negative_Environmental_News_2000.xlsx', 'C:\\\\Users\\\\limul\\\\Desktop\\\\College\\\\2_grade\\\\2_semester\\\\computational_statistics\\\\teamProject\\\\2024-2-CSP\\\\newsData\\\\filtered_datas\\\\Filtered_Negative_Environmental_News_2001.xlsx']\n"
     ]
    }
   ],
   "source": [
    "# read filtere_datas\n",
    "datasPath = os.path.join(os.getcwd(), \"filtered_datas\")\n",
    "xlsxList = os.listdir(datasPath)\n",
    "# print(xlsxList)\n",
    "\n",
    "for idx in range(len(xlsxList)):\n",
    "    xlsxList[idx] = datasPath + \"\\\\\" + xlsxList[idx]\n",
    "print(xlsxList[:3])"
   ]
  },
  {
   "cell_type": "code",
   "execution_count": 13,
   "id": "62a4fa4e-de8b-4005-a7a3-494b525f6d44",
   "metadata": {},
   "outputs": [
    {
     "name": "stdout",
     "output_type": "stream",
     "text": [
      "작업이 완료되었습니다. 결과는 'weekly_news_summary_no_duplicates.xlsx' 파일로 저장되었습니다.\n"
     ]
    }
   ],
   "source": [
    "# 경로 설정\n",
    "folder_path = datasPath\n",
    "\n",
    "# 날짜 포맷 정의\n",
    "date_format = \"%Y%m%d\"\n",
    "\n",
    "# 모든 파일을 읽어 하나의 데이터프레임에 병합\n",
    "all_data = []\n",
    "\n",
    "for file_name in os.listdir(folder_path):\n",
    "    if file_name.endswith('.xlsx') and not file_name.startswith('~$'):\n",
    "        # 파일 경로\n",
    "        file_path = os.path.join(folder_path, file_name)\n",
    "        \n",
    "        # 파일 불러오기\n",
    "        df = pd.read_excel(file_path)\n",
    "        \n",
    "        # \"일자\" 칼럼을 datetime 형식으로 변환\n",
    "        df['일자'] = pd.to_datetime(df['일자'].astype(str), format=date_format)\n",
    "        \n",
    "        all_data.append(df)\n",
    "\n",
    "# 모든 데이터를 하나의 데이터프레임으로 병합\n",
    "combined_df = pd.concat(all_data, ignore_index=True)\n",
    "\n",
    "# 중복 제거 (일자, 제목, 키워드 기준)\n",
    "combined_df = combined_df.drop_duplicates(subset=['일자', '제목', '키워드'])"
   ]
  },
  {
   "cell_type": "code",
   "execution_count": 14,
   "id": "97de87fa-ddab-4a41-be3c-358469c69ab8",
   "metadata": {},
   "outputs": [
    {
     "name": "stdout",
     "output_type": "stream",
     "text": [
      "작업이 완료되었습니다. 결과는 'weekly_news_summary_no_duplicates.xlsx' 파일로 저장되었습니다.\n"
     ]
    }
   ],
   "source": [
    "def count_by_keyword(key):\n",
    "    return weekly_df['제목'].str.contains(key, na=False).sum() + weekly_df['키워드'].str.contains(key, na=False).sum()\n",
    "\n",
    "# 결과를 저장할 리스트 초기화\n",
    "result_data = []\n",
    "keys = [\"오염\", \"환경 오염\", \"생물 멸종\", \"산성비\", \"수질 오염\", \"기후 위기\", \"온난화 가속화\", \"오존층 파괴\", \"유해 물질 누출\", \"이산화탄소\"]\n",
    "\n",
    "# 주 단위로 데이터를 처리\n",
    "start_date = datetime.strptime(\"20000103\", date_format)\n",
    "end_date = combined_df['일자'].max() + timedelta(weeks=1)\n",
    "current_start = start_date\n",
    "week_number = 1\n",
    "\n",
    "while current_start < end_date:\n",
    "    current_end = current_start + timedelta(weeks=1)\n",
    "    weekly_df = combined_df[(combined_df['일자'] >= current_start) & (combined_df['일자'] < current_end)]\n",
    "    \n",
    "    article_count = len(weekly_df)  # 기사 개수\n",
    "    \n",
    "    # 기간 설정 (텍스트 형식)\n",
    "    period = f\"{current_start.strftime(date_format)} - {(current_end - timedelta(days=1)).strftime(date_format)}\"\n",
    "\n",
    "    res = {\n",
    "        \"주차\": week_number,\n",
    "        \"기간\": period,\n",
    "        \"기사 갯수\": article_count\n",
    "    }\n",
    "    for key in keys:\n",
    "        res[key] = count_by_keyword(key)\n",
    "        \n",
    "    # extinction_count = count_by_keyword(\"생물 멸종\")\n",
    "    \n",
    "    # 결과 추가\n",
    "    result_data.append(res)\n",
    "    \n",
    "    # 다음 주로 이동\n",
    "    current_start = current_end\n",
    "    week_number += 1\n",
    "\n",
    "# 결과 데이터프레임 생성\n",
    "result_df = pd.DataFrame(result_data)\n",
    "\n",
    "# 결과 파일 저장\n",
    "result_df.to_excel(\"weekly_news_count.xlsx\", index=False)\n",
    "\n",
    "print(\"작업이 완료되었습니다. 결과는 'weekly_news_count.xlsx' 파일로 저장되었습니다.\")"
   ]
  },
  {
   "cell_type": "code",
   "execution_count": null,
   "id": "ee60d5ef-0b4f-41ab-9a24-33ee4a6d4f5d",
   "metadata": {},
   "outputs": [],
   "source": []
  }
 ],
 "metadata": {
  "kernelspec": {
   "display_name": "Python 3 (ipykernel)",
   "language": "python",
   "name": "python3"
  },
  "language_info": {
   "codemirror_mode": {
    "name": "ipython",
    "version": 3
   },
   "file_extension": ".py",
   "mimetype": "text/x-python",
   "name": "python",
   "nbconvert_exporter": "python",
   "pygments_lexer": "ipython3",
   "version": "3.12.7"
  }
 },
 "nbformat": 4,
 "nbformat_minor": 5
}
