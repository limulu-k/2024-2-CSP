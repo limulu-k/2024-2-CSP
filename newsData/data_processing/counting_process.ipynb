{
 "cells": [
  {
   "cell_type": "code",
   "execution_count": 2,
   "id": "c9260d7e-7ae4-43f2-8716-16692b734ecb",
   "metadata": {},
   "outputs": [],
   "source": [
    "import os\n",
    "import pandas as pd\n",
    "from datetime import datetime, timedelta"
   ]
  },
  {
   "cell_type": "code",
   "execution_count": 3,
   "id": "df7b9b56-cc1a-42a2-9853-8f7489ebe949",
   "metadata": {
    "scrolled": true
   },
   "outputs": [
    {
     "name": "stdout",
     "output_type": "stream",
     "text": [
      "['C:\\\\Users\\\\limul\\\\Desktop\\\\College\\\\2_grade\\\\2_semester\\\\computational_statistics\\\\teamProject\\\\2024-2-CSP\\\\newsData\\\\filtered_datas\\\\.ipynb_checkpoints', 'C:\\\\Users\\\\limul\\\\Desktop\\\\College\\\\2_grade\\\\2_semester\\\\computational_statistics\\\\teamProject\\\\2024-2-CSP\\\\newsData\\\\filtered_datas\\\\Filtered_Negative_Environmental_News_2000.xlsx', 'C:\\\\Users\\\\limul\\\\Desktop\\\\College\\\\2_grade\\\\2_semester\\\\computational_statistics\\\\teamProject\\\\2024-2-CSP\\\\newsData\\\\filtered_datas\\\\Filtered_Negative_Environmental_News_2001.xlsx']\n"
     ]
    }
   ],
   "source": [
    "# read filtere_datas\n",
    "datasPath = os.path.join(os.getcwd(), \"filtered_datas\")\n",
    "xlsxList = os.listdir(datasPath)\n",
    "# print(xlsxList)\n",
    "\n",
    "for idx in range(len(xlsxList)):\n",
    "    xlsxList[idx] = datasPath + \"\\\\\" + xlsxList[idx]\n",
    "print(xlsxList[:3])"
   ]
  },
  {
   "cell_type": "code",
   "execution_count": 13,
   "id": "62a4fa4e-de8b-4005-a7a3-494b525f6d44",
   "metadata": {},
   "outputs": [
    {
     "name": "stdout",
     "output_type": "stream",
     "text": [
      "작업이 완료되었습니다. 결과는 'weekly_news_summary_no_duplicates.xlsx' 파일로 저장되었습니다.\n"
     ]
    }
   ],
   "source": [
    "# 경로 설정\n",
    "folder_path = datasPath\n",
    "\n",
    "# 날짜 포맷 정의\n",
    "date_format = \"%Y%m%d\"\n",
    "\n",
    "# 모든 파일을 읽어 하나의 데이터프레임에 병합\n",
    "all_data = []\n",
    "\n",
    "for file_name in os.listdir(folder_path):\n",
    "    if file_name.endswith('.xlsx') and not file_name.startswith('~$'):\n",
    "        # 파일 경로\n",
    "        file_path = os.path.join(folder_path, file_name)\n",
    "        \n",
    "        # 파일 불러오기\n",
    "        df = pd.read_excel(file_path)\n",
    "        \n",
    "        # \"일자\" 칼럼을 datetime 형식으로 변환\n",
    "        df['일자'] = pd.to_datetime(df['일자'].astype(str), format=date_format)\n",
    "        \n",
    "        all_data.append(df)\n",
    "\n",
    "# 모든 데이터를 하나의 데이터프레임으로 병합\n",
    "combined_df = pd.concat(all_data, ignore_index=True)\n",
    "\n",
    "# 중복 제거 (일자, 제목, 키워드 기준)\n",
    "combined_df = combined_df.drop_duplicates(subset=['일자', '제목', '키워드'])"
   ]
  },
  {
   "cell_type": "code",
   "execution_count": 14,
   "id": "97de87fa-ddab-4a41-be3c-358469c69ab8",
   "metadata": {},
   "outputs": [
    {
     "name": "stdout",
     "output_type": "stream",
     "text": [
      "작업이 완료되었습니다. 결과는 'weekly_news_summary_no_duplicates.xlsx' 파일로 저장되었습니다.\n"
     ]
    }
   ],
   "source": [
    "def count_by_keyword(key):\n",
    "    return weekly_df['제목'].str.contains(key, na=False).sum() + weekly_df['키워드'].str.contains(key, na=False).sum()\n",
    "\n",
    "# 결과를 저장할 리스트 초기화\n",
    "result_data = []\n",
    "keys = [\"오염\", \"환경 오염\", \"생물 멸종\", \"산성비\", \"수질 오염\", \"기후 위기\", \"온난화 가속화\", \"오존층 파괴\", \"유해 물질 누출\", \"이산화탄소\"]\n",
    "\n",
    "# 주 단위로 데이터를 처리\n",
    "start_date = datetime.strptime(\"20000103\", date_format)\n",
    "end_date = combined_df['일자'].max() + timedelta(weeks=1)\n",
    "current_start = start_date\n",
    "week_number = 1\n",
    "\n",
    "while current_start < end_date:\n",
    "    current_end = current_start + timedelta(weeks=1)\n",
    "    weekly_df = combined_df[(combined_df['일자'] >= current_start) & (combined_df['일자'] < current_end)]\n",
    "    \n",
    "    article_count = len(weekly_df)  # 기사 개수\n",
    "    \n",
    "    # 기간 설정 (텍스트 형식)\n",
    "    period = f\"{current_start.strftime(date_format)} - {(current_end - timedelta(days=1)).strftime(date_format)}\"\n",
    "\n",
    "    res = {\n",
    "        \"주차\": week_number,\n",
    "        \"기간\": period,\n",
    "        \"기사 갯수\": article_count\n",
    "    }\n",
    "    for key in keys:\n",
    "        res[key] = count_by_keyword(key)\n",
    "        \n",
    "    # extinction_count = count_by_keyword(\"생물 멸종\")\n",
    "    \n",
    "    # 결과 추가\n",
    "    result_data.append(res)\n",
    "    \n",
    "    # 다음 주로 이동\n",
    "    current_start = current_end\n",
    "    week_number += 1\n",
    "\n",
    "# 결과 데이터프레임 생성\n",
    "result_df = pd.DataFrame(result_data)\n",
    "\n",
    "# 결과 파일 저장\n",
    "result_df.to_excel(\"weekly_news_count.xlsx\", index=False)\n",
    "\n",
    "print(\"작업이 완료되었습니다. 결과는 'weekly_news_count.xlsx' 파일로 저장되었습니다.\")"
   ]
  },
  {
   "cell_type": "code",
   "execution_count": 8,
   "id": "ee60d5ef-0b4f-41ab-9a24-33ee4a6d4f5d",
   "metadata": {},
   "outputs": [
    {
     "name": "stdout",
     "output_type": "stream",
     "text": [
      "C:\\Users\\limul\\Desktop\\College\\2_grade\\2_semester\\computational_statistics\\teamProject\\2024-2-CSP\\newsData\n"
     ]
    }
   ],
   "source": [
    "# 파일 경로\n",
    "weekly_file = os.getcwd()+'\\\\weekly_news_count.xlsx'\n",
    "quarterly_file = os.getcwd()+'\\\\count_quarterly_sum.xlsx'\n",
    "print(os.getcwd())\n",
    "# Excel 파일 읽기\n",
    "weekly_df = pd.read_excel(weekly_file)\n",
    "quarterly_df = pd.read_excel(quarterly_file)"
   ]
  },
  {
   "cell_type": "code",
   "execution_count": 54,
   "id": "8b72ae16-c519-4b44-bd39-cf6b2265acc6",
   "metadata": {},
   "outputs": [
    {
     "name": "stdout",
     "output_type": "stream",
     "text": [
      "C_start:2000-01-01\tC_end:2000-03-31\n",
      "start:20000103\tend:20000109\n"
     ]
    },
    {
     "ename": "KeyError",
     "evalue": "'전체 갯수'",
     "output_type": "error",
     "traceback": [
      "\u001b[1;31m---------------------------------------------------------------------------\u001b[0m",
      "\u001b[1;31mKeyError\u001b[0m                                  Traceback (most recent call last)",
      "Cell \u001b[1;32mIn[54], line 45\u001b[0m\n\u001b[0;32m     43\u001b[0m         \u001b[38;5;28mprint\u001b[39m(\u001b[38;5;124mf\u001b[39m\u001b[38;5;124m\"\u001b[39m\u001b[38;5;124mC_start:\u001b[39m\u001b[38;5;132;01m{\u001b[39;00mc_start\u001b[38;5;132;01m}\u001b[39;00m\u001b[38;5;130;01m\\t\u001b[39;00m\u001b[38;5;124mC_end:\u001b[39m\u001b[38;5;132;01m{\u001b[39;00mc_end\u001b[38;5;132;01m}\u001b[39;00m\u001b[38;5;124m\"\u001b[39m)\n\u001b[0;32m     44\u001b[0m         res[\u001b[38;5;124m\"\u001b[39m\u001b[38;5;124m주간 뉴스 수\u001b[39m\u001b[38;5;124m\"\u001b[39m] \u001b[38;5;241m=\u001b[39m \u001b[38;5;28mint\u001b[39m((tmp_r[\u001b[38;5;124m\"\u001b[39m\u001b[38;5;124m전체 갯수\u001b[39m\u001b[38;5;124m\"\u001b[39m]\u001b[38;5;241m/\u001b[39m(datetime\u001b[38;5;241m.\u001b[39mstrptime(c_end, \u001b[38;5;124m\"\u001b[39m\u001b[38;5;124m%\u001b[39m\u001b[38;5;124mY-\u001b[39m\u001b[38;5;124m%\u001b[39m\u001b[38;5;124mm-\u001b[39m\u001b[38;5;132;01m%d\u001b[39;00m\u001b[38;5;124m\"\u001b[39m)\u001b[38;5;241m-\u001b[39mdatetime\u001b[38;5;241m.\u001b[39mstrptime(c_start, \u001b[38;5;124m\"\u001b[39m\u001b[38;5;124m%\u001b[39m\u001b[38;5;124mY-\u001b[39m\u001b[38;5;124m%\u001b[39m\u001b[38;5;124mm-\u001b[39m\u001b[38;5;132;01m%d\u001b[39;00m\u001b[38;5;124m\"\u001b[39m))\u001b[38;5;241m.\u001b[39mdays)\u001b[38;5;241m*\u001b[39m\u001b[38;5;241m7\u001b[39m)\n\u001b[1;32m---> 45\u001b[0m     res[\u001b[38;5;124m\"\u001b[39m\u001b[38;5;124m뉴스 비율\u001b[39m\u001b[38;5;124m\"\u001b[39m] \u001b[38;5;241m=\u001b[39m \u001b[43mres\u001b[49m\u001b[43m[\u001b[49m\u001b[38;5;124;43m\"\u001b[39;49m\u001b[38;5;124;43m전체 갯수\u001b[39;49m\u001b[38;5;124;43m\"\u001b[39;49m\u001b[43m]\u001b[49m\u001b[38;5;241m/\u001b[39mres[\u001b[38;5;124m\"\u001b[39m\u001b[38;5;124m주간 뉴스 수\u001b[39m\u001b[38;5;124m\"\u001b[39m]\n\u001b[0;32m     46\u001b[0m     result_data\u001b[38;5;241m.\u001b[39mappend(res)\n\u001b[0;32m     48\u001b[0m result_df \u001b[38;5;241m=\u001b[39m pd\u001b[38;5;241m.\u001b[39mDataFrame(result_data)\n",
      "\u001b[1;31mKeyError\u001b[0m: '전체 갯수'"
     ]
    }
   ],
   "source": [
    "# count-quarterly\n",
    "# 분기 차수\t기간\t전체 갯수\n",
    "# 2000년 1분기\t2000-01-01 - 2000-03-31\t382,175\n",
    "\n",
    "# weekly_news_count\n",
    "# 주차\t기간\t기사 갯수\t오염\t환경 오염\t생물 멸종\t산성비\t수질 오염\t기후 위기\t온난화 가속화\t오존층 파괴\t유해 물질 누출\t이산화탄소\n",
    "# 1\t20000103 - 20000109\t10\t12\t0\t0\t5\t0\t0\t0\t0\t0\t2\n",
    "\n",
    "\n",
    "result_data = []\n",
    "k = 0\n",
    "tmp_r = quarterly_df.iloc[k]\n",
    "c_start , c_end = map(str, tmp_r[\"기간\"].split(\" - \"))\n",
    "print(f\"C_start:{c_start}\\tC_end:{c_end}\")\n",
    "\n",
    "for index, row in weekly_df.iterrows():\n",
    "    period = row[\"기간\"]\n",
    "    start, end = map(str, period.split(\" - \"))\n",
    "    print(f\"start:{start}\\tend:{end}\")\n",
    "    res = {}\n",
    "    for key in list(row.index):\n",
    "        res[key] = row[key]\n",
    "    if datetime.strptime(c_start, \"%Y-%m-%d\") <= datetime.strptime(start, \"%Y%m%d\") and datetime.strptime(end, \"%Y%m%d\") <= datetime.strptime(c_end, \"%Y-%m-%d\"):\n",
    "        # print(\"Case A\")\n",
    "        res[\"주간 뉴스 수\"] = int((tmp_r[\"전체 갯수\"]/(datetime.strptime(c_end, \"%Y-%m-%d\")-datetime.strptime(c_start, \"%Y-%m-%d\")).days)*7)\n",
    "    elif datetime.strptime(c_start, \"%Y-%m-%d\") <= datetime.strptime(start, \"%Y%m%d\") and datetime.strptime(end, \"%Y%m%d\") > datetime.strptime(c_end, \"%Y-%m-%d\"):\n",
    "        # print(\"Case B\")\n",
    "        if k + 1 < len(quarterly_df):\n",
    "            tmp = int((tmp_r[\"전체 갯수\"]/(datetime.strptime(c_end, \"%Y-%m-%d\")-datetime.strptime(c_start, \"%Y-%m-%d\")).days)*((datetime.strptime(c_end, \"%Y-%m-%d\")-datetime.strptime(start, \"%Y%m%d\")).days+1))\n",
    "            k += 1\n",
    "            tmp_r = quarterly_df.iloc[k]\n",
    "            c_start , c_end = map(str, tmp_r[\"기간\"].split(\" - \"))\n",
    "            print(f\"C_start:{c_start}\\tC_end:{c_end}\")\n",
    "            tmp += int((tmp_r[\"전체 갯수\"]/(datetime.strptime(c_end, \"%Y-%m-%d\")-datetime.strptime(c_start, \"%Y-%m-%d\")).days)*((datetime.strptime(end, \"%Y%m%d\")-datetime.strptime(c_start, \"%Y-%m-%d\")).days+1))\n",
    "            res[\"주간 뉴스 수\"] = tmp\n",
    "        else:\n",
    "            res[\"주간 뉴스 수\"] = int((tmp_r[\"전체 갯수\"]/(datetime.strptime(c_end, \"%Y-%m-%d\")-datetime.strptime(c_start, \"%Y-%m-%d\")).days)*7)\n",
    "    elif datetime.strptime(c_end, \"%Y-%m-%d\") > datetime.strptime(start, \"%Y%m%d\"):\n",
    "        # print(\"Case C\")\n",
    "        k += 1\n",
    "        tmp_r = quarterly_df.iloc[k]\n",
    "        c_start , c_end = map(str, tmp_r[\"기간\"].split(\" - \"))\n",
    "        print(f\"C_start:{c_start}\\tC_end:{c_end}\")\n",
    "        res[\"주간 뉴스 수\"] = int((tmp_r[\"전체 갯수\"]/(datetime.strptime(c_end, \"%Y-%m-%d\")-datetime.strptime(c_start, \"%Y-%m-%d\")).days)*7)\n",
    "    res[\"뉴스 비율\"] = res[\"전체 갯수\"]/res[\"주간 뉴스 수\"]\n",
    "    result_data.append(res)\n",
    "\n",
    "result_df = pd.DataFrame(result_data)\n",
    "\n",
    "# 결과 파일을 CSV로 저장\n",
    "result_df.to_csv(\"final_data.csv\", index=False, encoding='utf-8-sig')\n",
    "\n",
    "print(\"작업이 완료되었습니다. 결과는 'final_data.csv' 파일로 저장되었습니다.\")"
   ]
  },
  {
   "cell_type": "code",
   "execution_count": null,
   "id": "24fb838b-2caa-4b00-8125-d21ccc2924dc",
   "metadata": {},
   "outputs": [],
   "source": []
  }
 ],
 "metadata": {
  "kernelspec": {
   "display_name": "Python 3 (ipykernel)",
   "language": "python",
   "name": "python3"
  },
  "language_info": {
   "codemirror_mode": {
    "name": "ipython",
    "version": 3
   },
   "file_extension": ".py",
   "mimetype": "text/x-python",
   "name": "python",
   "nbconvert_exporter": "python",
   "pygments_lexer": "ipython3",
   "version": "3.12.7"
  }
 },
 "nbformat": 4,
 "nbformat_minor": 5
}
