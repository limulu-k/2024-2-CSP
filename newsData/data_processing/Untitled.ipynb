{
 "cells": [
  {
   "cell_type": "code",
   "execution_count": null,
   "id": "934c10f2-3595-46d6-aecf-5d874b7257ce",
   "metadata": {},
   "outputs": [],
   "source": [
    "import subprocess\n",
    "\n",
    "def install_packages(package_list):\n",
    "    try:\n",
    "        result = subprocess.run(\n",
    "            ['pip', 'install', *package_list],\n",
    "            stdout=subprocess.PIPE,\n",
    "            stderr=subprocess.PIPE,\n",
    "            text=True\n",
    "        )\n",
    "        # Print the output\n",
    "        if result.returncode == 0:\n",
    "            print(\"Packages installed successfully:\")\n",
    "            print(result.stdout)\n",
    "        else:\n",
    "            print(\"Error installing packages:\")\n",
    "            print(result.stderr)\n",
    "    except Exception as e:\n",
    "        print(f\"An error occurred: {e}\")\n",
    "\n",
    "packages = ['numpy==1.21.2', 'pandas>=1.3.0', 'flask']\n",
    "install_packages(packages)"
   ]
  }
 ],
 "metadata": {
  "kernelspec": {
   "display_name": "Python 3 (ipykernel)",
   "language": "python",
   "name": "python3"
  },
  "language_info": {
   "codemirror_mode": {
    "name": "ipython",
    "version": 3
   },
   "file_extension": ".py",
   "mimetype": "text/x-python",
   "name": "python",
   "nbconvert_exporter": "python",
   "pygments_lexer": "ipython3",
   "version": "3.12.7"
  }
 },
 "nbformat": 4,
 "nbformat_minor": 5
}
