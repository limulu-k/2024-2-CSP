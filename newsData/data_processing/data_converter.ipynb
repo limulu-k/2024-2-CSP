{
 "cells": [
  {
   "cell_type": "code",
   "execution_count": 1,
   "metadata": {},
   "outputs": [
    {
     "name": "stdout",
     "output_type": "stream",
     "text": [
      "변환된 데이터가 final_data_transformed.csv에 저장되었습니다.\n"
     ]
    }
   ],
   "source": [
    "import pandas as pd\n",
    "\n",
    "# 데이터 읽기\n",
    "file_path = \"final_data.csv\"  # 파일 경로를 지정하세요\n",
    "data = pd.read_csv(file_path)\n",
    "\n",
    "# 기간 컬럼 포맷 변경\n",
    "def transform_date(date_range):\n",
    "    # \"20000103 - 20000109\" 형식을 분리\n",
    "    start_date, _ = date_range.split(\" - \")\n",
    "    # 시작 날짜에서 하루를 빼기\n",
    "    new_date = pd.to_datetime(start_date) - pd.Timedelta(days=1)\n",
    "    return new_date.strftime(\"%Y-%m-%d\")\n",
    "\n",
    "# 날짜 변환 적용\n",
    "data['기간'] = data['기간'].apply(transform_date)\n",
    "\n",
    "# 수정된 데이터를 저장\n",
    "output_path = \"final_data_transformed.csv\"  # 저장할 파일 경로를 지정하세요\n",
    "data.to_csv(output_path, index=False, encoding='utf-8-sig')\n",
    "\n",
    "print(f\"변환된 데이터가 {output_path}에 저장되었습니다.\")"
   ]
  }
 ],
 "metadata": {
  "kernelspec": {
   "display_name": "Python 3",
   "language": "python",
   "name": "python3"
  },
  "language_info": {
   "codemirror_mode": {
    "name": "ipython",
    "version": 3
   },
   "file_extension": ".py",
   "mimetype": "text/x-python",
   "name": "python",
   "nbconvert_exporter": "python",
   "pygments_lexer": "ipython3",
   "version": "3.12.7"
  }
 },
 "nbformat": 4,
 "nbformat_minor": 2
}
