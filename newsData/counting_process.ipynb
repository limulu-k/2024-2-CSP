{
 "cells": [
  {
   "cell_type": "code",
   "execution_count": 1,
   "id": "c9260d7e-7ae4-43f2-8716-16692b734ecb",
   "metadata": {},
   "outputs": [],
   "source": [
    "import os\n",
    "import pandas as pd"
   ]
  },
  {
   "cell_type": "code",
   "execution_count": 9,
   "id": "df7b9b56-cc1a-42a2-9853-8f7489ebe949",
   "metadata": {
    "scrolled": true
   },
   "outputs": [
    {
     "name": "stdout",
     "output_type": "stream",
     "text": [
      "['C:\\\\Users\\\\limul\\\\Desktop\\\\College\\\\2_grade\\\\2_semester\\\\computational_statistics\\\\teamProject\\\\2024-2-CSP\\\\newsData\\\\filtered_datas\\\\Filtered_Negative_Environmental_News_2000.xlsx', 'C:\\\\Users\\\\limul\\\\Desktop\\\\College\\\\2_grade\\\\2_semester\\\\computational_statistics\\\\teamProject\\\\2024-2-CSP\\\\newsData\\\\filtered_datas\\\\Filtered_Negative_Environmental_News_2001.xlsx', 'C:\\\\Users\\\\limul\\\\Desktop\\\\College\\\\2_grade\\\\2_semester\\\\computational_statistics\\\\teamProject\\\\2024-2-CSP\\\\newsData\\\\filtered_datas\\\\Filtered_Negative_Environmental_News_2002.xlsx']\n"
     ]
    }
   ],
   "source": [
    "# read filtere_datas\n",
    "datasPath = os.path.join(os.getcwd(), \"filtered_datas\")\n",
    "xlsxList = os.listdir(datasPath)\n",
    "# print(xlsxList)\n",
    "\n",
    "for idx in range(len(xlsxList)):\n",
    "    xlsxList[idx] = datasPath + \"\\\\\" + xlsxList[idx]\n",
    "print(xlsxList[:3])"
   ]
  },
  {
   "cell_type": "code",
   "execution_count": null,
   "id": "b8d15318-f236-43d7-b521-bb2589318134",
   "metadata": {},
   "outputs": [],
   "source": [
    "# 모든 데이터를 하나의 DataFrame으로 통합하는 함수\n",
    "def load_and_concatenate_data(file_paths):\n",
    "    data_frames = []\n",
    "    for file in file_paths:\n",
    "        df = pd.read_excel(file, parse_dates=['일자'])  # '일자' 열을 날짜 형식으로 변환\n",
    "        data_frames.append(df)\n",
    "    all_data = pd.concat(data_frames, ignore_index=True)\n",
    "    return all_data\n",
    "\n",
    "# 주간 데이터 카운트를 계산하는 함수\n",
    "def calculate_weekly_counts(data, start_date='2000-01-02'):\n",
    "    # 시작 날짜를 설정하고 주간 단위로 데이터 리샘플링하여 카운트\n",
    "    data = data.set_index('일자')\n",
    "    weekly_counts = data.resample('W', origin=start_date).size().reset_index(name='Count')\n",
    "    return weekly_counts\n",
    "\n",
    "# 데이터 로드 및 주간 카운트 계산 실행\n",
    "all_data = load_and_concatenate_data(xlsxList)\n",
    "weekly_counts = calculate_weekly_counts(all_data)\n",
    "\n",
    "# 결과를 엑셀 파일로 저장\n",
    "output_path = os.path.join(os.getcwd(), \"Weekly_Environmental_News_Count_2000_2024.xlsx\")\n",
    "weekly_counts.to_excel(output_path, index=False)\n",
    "print(f\"Weekly counts saved to {output_path}\")"
   ]
  }
 ],
 "metadata": {
  "kernelspec": {
   "display_name": "Python 3 (ipykernel)",
   "language": "python",
   "name": "python3"
  },
  "language_info": {
   "codemirror_mode": {
    "name": "ipython",
    "version": 3
   },
   "file_extension": ".py",
   "mimetype": "text/x-python",
   "name": "python",
   "nbconvert_exporter": "python",
   "pygments_lexer": "ipython3",
   "version": "3.12.7"
  }
 },
 "nbformat": 4,
 "nbformat_minor": 5
}
