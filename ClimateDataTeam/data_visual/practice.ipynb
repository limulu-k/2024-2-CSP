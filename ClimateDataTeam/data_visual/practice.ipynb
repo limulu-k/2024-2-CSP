{
 "cells": [
  {
   "cell_type": "code",
   "id": "initial_id",
   "metadata": {
    "collapsed": true,
    "ExecuteTime": {
     "end_time": "2024-11-13T02:12:15.447130Z",
     "start_time": "2024-11-13T02:12:15.445146Z"
    }
   },
   "source": [
    "import pandas as pd\n",
    "import seaborn as sns"
   ],
   "outputs": [],
   "execution_count": 5
  },
  {
   "metadata": {
    "ExecuteTime": {
     "end_time": "2024-11-13T02:12:15.764391Z",
     "start_time": "2024-11-13T02:12:15.748811Z"
    }
   },
   "cell_type": "code",
   "source": [
    "data1 = pd.read_csv('../climate_data/merged_weekly_avg_temp.csv')\n",
    "print(data1.head())\n",
    "\n"
   ],
   "id": "915587e0cfe4ae76",
   "outputs": [
    {
     "name": "stdout",
     "output_type": "stream",
     "text": [
      "     datetime    tempmax    tempmin       temp        dew   humidity  \\\n",
      "0  2000-01-02  47.600000  29.300000  41.450000  31.500000  68.350000   \n",
      "1  2000-01-09  35.714286  21.342857  29.128571  19.485714  68.742857   \n",
      "2  2000-01-16  38.871429  24.857143  32.785714  23.485714  69.671429   \n",
      "3  2000-01-23  35.242857  18.414286  26.142857  15.528571  65.642857   \n",
      "4  2000-01-30  32.000000  14.128571  23.357143  10.900000  60.342857   \n",
      "\n",
      "     precip  windspeed  sealevelpressure  moonphase  \n",
      "0  0.117000  10.050000       1020.850000   0.830000  \n",
      "1  0.109143   9.971429       1022.157143   0.550000  \n",
      "2  0.037714  10.000000       1022.942857   0.220000  \n",
      "3  0.019571   9.742857       1027.285714   0.461429  \n",
      "4  0.003857  10.800000       1032.157143   0.697143  \n"
     ]
    }
   ],
   "execution_count": 6
  },
  {
   "metadata": {
    "ExecuteTime": {
     "end_time": "2024-11-13T01:40:38.747932Z",
     "start_time": "2024-11-13T01:40:37.248494Z"
    }
   },
   "cell_type": "code",
   "source": [
    "# Seaborn을 활용하여 각 속성간의 상관관계 분석하기\n",
    "\n",
    "sns.pairplot(data = data1, vars=['tempmax','tempmin','temp','dew','humidity','precip','windspeed','sealevelpressure','moonphase'], kind = 'scatter', dropna=True)"
   ],
   "id": "46a42b7fb74bfaa6",
   "outputs": [
    {
     "name": "stdout",
     "output_type": "stream",
     "text": [
      "Requirement already satisfied: pandas in /Users/minseokkang/projects/statistic_project/statistic_venv/lib/python3.11/site-packages (2.2.3)\r\n",
      "Collecting openpyxl\r\n",
      "  Obtaining dependency information for openpyxl from https://files.pythonhosted.org/packages/c0/da/977ded879c29cbd04de313843e76868e6e13408a94ed6b987245dc7c8506/openpyxl-3.1.5-py2.py3-none-any.whl.metadata\r\n",
      "  Downloading openpyxl-3.1.5-py2.py3-none-any.whl.metadata (2.5 kB)\r\n",
      "Requirement already satisfied: numpy>=1.23.2 in /Users/minseokkang/projects/statistic_project/statistic_venv/lib/python3.11/site-packages (from pandas) (2.1.2)\r\n",
      "Requirement already satisfied: python-dateutil>=2.8.2 in /Users/minseokkang/projects/statistic_project/statistic_venv/lib/python3.11/site-packages (from pandas) (2.9.0.post0)\r\n",
      "Requirement already satisfied: pytz>=2020.1 in /Users/minseokkang/projects/statistic_project/statistic_venv/lib/python3.11/site-packages (from pandas) (2024.2)\r\n",
      "Requirement already satisfied: tzdata>=2022.7 in /Users/minseokkang/projects/statistic_project/statistic_venv/lib/python3.11/site-packages (from pandas) (2024.2)\r\n",
      "Collecting et-xmlfile (from openpyxl)\r\n",
      "  Obtaining dependency information for et-xmlfile from https://files.pythonhosted.org/packages/c1/8b/5fe2cc11fee489817272089c4203e679c63b570a5aaeb18d852ae3cbba6a/et_xmlfile-2.0.0-py3-none-any.whl.metadata\r\n",
      "  Downloading et_xmlfile-2.0.0-py3-none-any.whl.metadata (2.7 kB)\r\n",
      "Requirement already satisfied: six>=1.5 in /Users/minseokkang/projects/statistic_project/statistic_venv/lib/python3.11/site-packages (from python-dateutil>=2.8.2->pandas) (1.16.0)\r\n",
      "Downloading openpyxl-3.1.5-py2.py3-none-any.whl (250 kB)\r\n",
      "\u001B[2K   \u001B[90m━━━━━━━━━━━━━━━━━━━━━━━━━━━━━━━━━━━━━━━━\u001B[0m \u001B[32m250.9/250.9 kB\u001B[0m \u001B[31m4.0 MB/s\u001B[0m eta \u001B[36m0:00:00\u001B[0ma \u001B[36m0:00:01\u001B[0m\r\n",
      "\u001B[?25hDownloading et_xmlfile-2.0.0-py3-none-any.whl (18 kB)\r\n",
      "Installing collected packages: et-xmlfile, openpyxl\r\n",
      "Successfully installed et-xmlfile-2.0.0 openpyxl-3.1.5\r\n",
      "\r\n",
      "\u001B[1m[\u001B[0m\u001B[34;49mnotice\u001B[0m\u001B[1;39;49m]\u001B[0m\u001B[39;49m A new release of pip is available: \u001B[0m\u001B[31;49m23.2.1\u001B[0m\u001B[39;49m -> \u001B[0m\u001B[32;49m24.3.1\u001B[0m\r\n",
      "\u001B[1m[\u001B[0m\u001B[34;49mnotice\u001B[0m\u001B[1;39;49m]\u001B[0m\u001B[39;49m To update, run: \u001B[0m\u001B[32;49mpip install --upgrade pip\u001B[0m\r\n"
     ]
    }
   ],
   "execution_count": 3
  },
  {
   "metadata": {
    "ExecuteTime": {
     "end_time": "2024-11-13T02:58:54.567738Z",
     "start_time": "2024-11-13T02:58:54.535589Z"
    }
   },
   "cell_type": "code",
   "source": [
    "####################################################################\n",
    "# [주의!!!!] \n",
    "# class 속성에 라벨을 추가하는 코드입니다.\n",
    "# 실행 X\n",
    "data1['class'] = 0\n",
    "for index, row in data1.iterrows():\n",
    "    # 섭씨 30도가 넘어가는 경우 : 폭염으로 판단\n",
    "    if row['tempmax'] > 73:\n",
    "        data1.at[index, 'class'] = 1\n",
    "    # 섭씨 영하 10도보다 작은 경우 : 한파로 판단\n",
    "    if row['tempmin'] < 20:\n",
    "        data1.at[index, 'class'] = 1\n",
    "\n",
    "output_file_path = \"../climate_data/labeled_climate.csv\"\n",
    "data1.to_csv(output_file_path, index=False)\n",
    "print(\"New CSV file 'labeled_climate.csv' has been created with the 'class' column.\")\n",
    "####################################################################\n"
   ],
   "id": "5f00f88d7792b2ff",
   "outputs": [
    {
     "name": "stdout",
     "output_type": "stream",
     "text": [
      "New CSV file 'labeled_climate.csv' has been created with the 'class' column.\n"
     ]
    }
   ],
   "execution_count": 105
  },
  {
   "metadata": {
    "ExecuteTime": {
     "end_time": "2024-11-13T02:57:58.506110Z",
     "start_time": "2024-11-13T02:57:57.972674Z"
    }
   },
   "cell_type": "code",
   "source": "!pip install scikit-learn",
   "id": "f958a03fd8afe70d",
   "outputs": [
    {
     "name": "stdout",
     "output_type": "stream",
     "text": [
      "Requirement already satisfied: scikit-learn in /Users/minseokkang/projects/statistic_project/statistic_venv/lib/python3.11/site-packages (1.5.2)\r\n",
      "Requirement already satisfied: numpy>=1.19.5 in /Users/minseokkang/projects/statistic_project/statistic_venv/lib/python3.11/site-packages (from scikit-learn) (2.1.2)\r\n",
      "Requirement already satisfied: scipy>=1.6.0 in /Users/minseokkang/projects/statistic_project/statistic_venv/lib/python3.11/site-packages (from scikit-learn) (1.14.1)\r\n",
      "Requirement already satisfied: joblib>=1.2.0 in /Users/minseokkang/projects/statistic_project/statistic_venv/lib/python3.11/site-packages (from scikit-learn) (1.4.2)\r\n",
      "Requirement already satisfied: threadpoolctl>=3.1.0 in /Users/minseokkang/projects/statistic_project/statistic_venv/lib/python3.11/site-packages (from scikit-learn) (3.5.0)\r\n"
     ]
    }
   ],
   "execution_count": 78
  },
  {
   "metadata": {
    "ExecuteTime": {
     "end_time": "2024-11-13T02:58:56.083849Z",
     "start_time": "2024-11-13T02:58:56.073881Z"
    }
   },
   "cell_type": "code",
   "source": [
    "import matplotlib.pyplot as plt\n",
    "from sklearn.model_selection import train_test_split\n",
    "\n",
    "# 데이터 불러오기\n",
    "data2 = pd.read_csv('../climate_data/labeled_climate.csv')\n",
    "\n",
    "# 데이터 분리 (훈련 데이터와 테스트 데이터)\n",
    "X_train, X_test, y_train, y_test = train_test_split(data2[['moonphase']], data2['class'], test_size=0.2, shuffle=True)\n",
    "\n",
    "print(\"The Dimension of the trainset is \", X_train.shape)\n",
    "print(\"The Dimension of the testset is \", X_test.shape)"
   ],
   "id": "3e96753dca33e0b2",
   "outputs": [
    {
     "name": "stdout",
     "output_type": "stream",
     "text": [
      "The Dimension of the trainset is  (1011, 1)\n",
      "The Dimension of the testset is  (253, 1)\n"
     ]
    }
   ],
   "execution_count": 106
  },
  {
   "metadata": {
    "ExecuteTime": {
     "end_time": "2024-11-13T02:58:56.947787Z",
     "start_time": "2024-11-13T02:58:56.943433Z"
    }
   },
   "cell_type": "code",
   "source": [
    "from sklearn.preprocessing import StandardScaler\n",
    "\n",
    "scaler = StandardScaler()\n",
    "X_train_scaled = scaler.fit_transform(X_train)\n",
    "X_test_scaled = scaler.transform(X_test)"
   ],
   "id": "dc784f1374b8cddb",
   "outputs": [],
   "execution_count": 107
  },
  {
   "metadata": {
    "ExecuteTime": {
     "end_time": "2024-11-13T02:58:57.327827Z",
     "start_time": "2024-11-13T02:58:57.322224Z"
    }
   },
   "cell_type": "code",
   "source": [
    "from sklearn.linear_model import LogisticRegression\n",
    "model1 = LogisticRegression(tol=1e-04).fit(X_train_scaled, y_train)"
   ],
   "id": "ce73129d541ce686",
   "outputs": [],
   "execution_count": 108
  },
  {
   "metadata": {
    "ExecuteTime": {
     "end_time": "2024-11-13T02:58:57.864175Z",
     "start_time": "2024-11-13T02:58:57.861140Z"
    }
   },
   "cell_type": "code",
   "source": [
    "print(\"--------------------------------------------\")\n",
    "print(\"regression coefficients: \", model1.coef_)\n",
    "print(\"intercept is \", model1.intercept_)\n",
    "print(\"model score is \", model1.score(X_train_scaled, y_train))\n",
    "print(\"--------------------------------------------\")"
   ],
   "id": "470687b420fc3345",
   "outputs": [
    {
     "name": "stdout",
     "output_type": "stream",
     "text": [
      "--------------------------------------------\n",
      "regression coefficients:  [[0.07689419]]\n",
      "intercept is  [-0.00198102]\n",
      "model score is  0.5153313550939663\n",
      "--------------------------------------------\n"
     ]
    }
   ],
   "execution_count": 109
  },
  {
   "metadata": {
    "ExecuteTime": {
     "end_time": "2024-11-13T02:59:02.349855Z",
     "start_time": "2024-11-13T02:59:02.343237Z"
    }
   },
   "cell_type": "code",
   "source": "model1.predict_proba(X_test_scaled)",
   "id": "529df226f3d004ba",
   "outputs": [
    {
     "data": {
      "text/plain": [
       "array([[0.47572654, 0.52427346],\n",
       "       [0.48512524, 0.51487476],\n",
       "       [0.50134659, 0.49865341],\n",
       "       [0.50642452, 0.49357548],\n",
       "       [0.50072729, 0.49927271],\n",
       "       [0.4991171 , 0.5008829 ],\n",
       "       [0.47387335, 0.52612665],\n",
       "       [0.49589681, 0.50410319],\n",
       "       [0.50023184, 0.49976816],\n",
       "       [0.53016942, 0.46983058],\n",
       "       [0.49007658, 0.50992342],\n",
       "       [0.49986026, 0.50013974],\n",
       "       [0.5315267 , 0.4684733 ],\n",
       "       [0.47659159, 0.52340841],\n",
       "       [0.53700023, 0.46299977],\n",
       "       [0.47078633, 0.52921367],\n",
       "       [0.53300684, 0.46699316],\n",
       "       [0.50555762, 0.49444238],\n",
       "       [0.4940391 , 0.5059609 ],\n",
       "       [0.49874552, 0.50125448],\n",
       "       [0.52399464, 0.47600536],\n",
       "       [0.50939642, 0.49060358],\n",
       "       [0.52621851, 0.47378149],\n",
       "       [0.49354373, 0.50645627],\n",
       "       [0.51509054, 0.48490946],\n",
       "       [0.49663994, 0.50336006],\n",
       "       [0.4725148 , 0.5274852 ],\n",
       "       [0.50580531, 0.49419469],\n",
       "       [0.50060343, 0.49939657],\n",
       "       [0.49465832, 0.50534168],\n",
       "       [0.49651608, 0.50348392],\n",
       "       [0.49986026, 0.50013974],\n",
       "       [0.5288117 , 0.4711883 ],\n",
       "       [0.51731768, 0.48268232],\n",
       "       [0.53411656, 0.46588344],\n",
       "       [0.49168623, 0.50831377],\n",
       "       [0.4869817 , 0.5130183 ],\n",
       "       [0.46967553, 0.53032447],\n",
       "       [0.47894028, 0.52105972],\n",
       "       [0.49639223, 0.50360777],\n",
       "       [0.49020039, 0.50979961],\n",
       "       [0.51533803, 0.48466197],\n",
       "       [0.51620419, 0.48379581],\n",
       "       [0.48227948, 0.51772052],\n",
       "       [0.48388782, 0.51611218],\n",
       "       [0.48450651, 0.51549349],\n",
       "       [0.52053343, 0.47946657],\n",
       "       [0.48537274, 0.51462726],\n",
       "       [0.52955233, 0.47044767],\n",
       "       [0.48834334, 0.51165666],\n",
       "       [0.49837394, 0.50162606],\n",
       "       [0.48661038, 0.51338962],\n",
       "       [0.49614452, 0.50385548],\n",
       "       [0.49589681, 0.50410319],\n",
       "       [0.49688765, 0.50311235],\n",
       "       [0.52473604, 0.47526396],\n",
       "       [0.50060343, 0.49939657],\n",
       "       [0.51088214, 0.48911786],\n",
       "       [0.48524899, 0.51475101],\n",
       "       [0.46782488, 0.53217512],\n",
       "       [0.48648661, 0.51351339],\n",
       "       [0.48166098, 0.51833902],\n",
       "       [0.49614452, 0.50385548],\n",
       "       [0.50952024, 0.49047976],\n",
       "       [0.51051073, 0.48948927],\n",
       "       [0.5141005 , 0.4858995 ],\n",
       "       [0.51991514, 0.48008486],\n",
       "       [0.47535584, 0.52464416],\n",
       "       [0.47572654, 0.52427346],\n",
       "       [0.47387335, 0.52612665],\n",
       "       [0.51298657, 0.48701343],\n",
       "       [0.49205771, 0.50794229],\n",
       "       [0.51496679, 0.48503321],\n",
       "       [0.46757819, 0.53242181],\n",
       "       [0.49837394, 0.50162606],\n",
       "       [0.46905855, 0.53094145],\n",
       "       [0.49465832, 0.50534168],\n",
       "       [0.5248596 , 0.4751404 ],\n",
       "       [0.50939642, 0.49060358],\n",
       "       [0.48574402, 0.51425598],\n",
       "       [0.50246132, 0.49753868],\n",
       "       [0.47461454, 0.52538546],\n",
       "       [0.47202088, 0.52797912],\n",
       "       [0.46683823, 0.53316177],\n",
       "       [0.51929679, 0.48070321],\n",
       "       [0.48166098, 0.51833902],\n",
       "       [0.52448892, 0.47551108],\n",
       "       [0.47066289, 0.52933711],\n",
       "       [0.50357602, 0.49642398],\n",
       "       [0.52337673, 0.47662327],\n",
       "       [0.53090981, 0.46909019],\n",
       "       [0.5315267 , 0.4684733 ],\n",
       "       [0.48215577, 0.51784423],\n",
       "       [0.51311034, 0.48688966],\n",
       "       [0.51694654, 0.48305346],\n",
       "       [0.49800236, 0.50199764],\n",
       "       [0.53386999, 0.46613001],\n",
       "       [0.50357602, 0.49642398],\n",
       "       [0.46671491, 0.53328509],\n",
       "       [0.5299226 , 0.4700774 ],\n",
       "       [0.50543378, 0.49456622],\n",
       "       [0.49738307, 0.50261693],\n",
       "       [0.47906393, 0.52093607],\n",
       "       [0.51051073, 0.48948927],\n",
       "       [0.52065708, 0.47934292],\n",
       "       [0.47597368, 0.52402632],\n",
       "       [0.51249145, 0.48750855],\n",
       "       [0.48339291, 0.51660709],\n",
       "       [0.52831787, 0.47168213],\n",
       "       [0.50791054, 0.49208946],\n",
       "       [0.49143858, 0.50856142],\n",
       "       [0.48908612, 0.51091388],\n",
       "       [0.50890115, 0.49109885],\n",
       "       [0.49527756, 0.50472244],\n",
       "       [0.50989168, 0.49010832],\n",
       "       [0.5248596 , 0.4751404 ],\n",
       "       [0.4924292 , 0.5075708 ],\n",
       "       [0.48512524, 0.51487476],\n",
       "       [0.51830731, 0.48169269],\n",
       "       [0.50456684, 0.49543316],\n",
       "       [0.52745354, 0.47254646],\n",
       "       [0.47189741, 0.52810259],\n",
       "       [0.51904944, 0.48095056],\n",
       "       [0.5310332 , 0.4689668 ],\n",
       "       [0.47968217, 0.52031783],\n",
       "       [0.52893514, 0.47106486],\n",
       "       [0.49589681, 0.50410319],\n",
       "       [0.49465832, 0.50534168],\n",
       "       [0.49763079, 0.50236921],\n",
       "       [0.50877733, 0.49122267],\n",
       "       [0.50431914, 0.49568086],\n",
       "       [0.50196588, 0.49803412],\n",
       "       [0.49304838, 0.50695162],\n",
       "       [0.46815382, 0.53184618],\n",
       "       [0.52238792, 0.47761208],\n",
       "       [0.50072729, 0.49927271],\n",
       "       [0.52090438, 0.47909562],\n",
       "       [0.52498315, 0.47501685],\n",
       "       [0.47659159, 0.52340841],\n",
       "       [0.46597512, 0.53402488],\n",
       "       [0.52609498, 0.47390502],\n",
       "       [0.50741522, 0.49258478],\n",
       "       [0.49725922, 0.50274078],\n",
       "       [0.51397673, 0.48602327],\n",
       "       [0.48883852, 0.51116148],\n",
       "       [0.47597368, 0.52402632],\n",
       "       [0.48908612, 0.51091388],\n",
       "       [0.5137292 , 0.4862708 ],\n",
       "       [0.47634442, 0.52365558],\n",
       "       [0.47560297, 0.52439703],\n",
       "       [0.47486163, 0.52513837],\n",
       "       [0.51645165, 0.48354835],\n",
       "       [0.52955233, 0.47044767],\n",
       "       [0.4928007 , 0.5071993 ],\n",
       "       [0.48772439, 0.51227561],\n",
       "       [0.50580531, 0.49419469],\n",
       "       [0.48871472, 0.51128528],\n",
       "       [0.49205771, 0.50794229],\n",
       "       [0.49441063, 0.50558937],\n",
       "       [0.4683183 , 0.5316817 ],\n",
       "       [0.49267687, 0.50732313],\n",
       "       [0.47276178, 0.52723822],\n",
       "       [0.51608046, 0.48391954],\n",
       "       [0.50741522, 0.49258478],\n",
       "       [0.47708597, 0.52291403],\n",
       "       [0.49007658, 0.50992342],\n",
       "       [0.50952024, 0.49047976],\n",
       "       [0.48054783, 0.51945217],\n",
       "       [0.51323412, 0.48676588],\n",
       "       [0.50147045, 0.49852955],\n",
       "       [0.51929679, 0.48070321],\n",
       "       [0.50382373, 0.49617627],\n",
       "       [0.50419529, 0.49580471],\n",
       "       [0.51583299, 0.48416701],\n",
       "       [0.52139893, 0.47860107],\n",
       "       [0.52288234, 0.47711766],\n",
       "       [0.52893514, 0.47106486],\n",
       "       [0.52473604, 0.47526396],\n",
       "       [0.51174872, 0.48825128],\n",
       "       [0.48685792, 0.51314208],\n",
       "       [0.47090977, 0.52909023],\n",
       "       [0.52350032, 0.47649968],\n",
       "       [0.47782762, 0.52217238],\n",
       "       [0.49478217, 0.50521783],\n",
       "       [0.51261523, 0.48738477],\n",
       "       [0.47202088, 0.52797912],\n",
       "       [0.49564911, 0.50435089],\n",
       "       [0.49515371, 0.50484629],\n",
       "       [0.48116622, 0.51883378],\n",
       "       [0.50580531, 0.49419469],\n",
       "       [0.47770401, 0.52229599],\n",
       "       [0.52918203, 0.47081797],\n",
       "       [0.47325578, 0.52674422],\n",
       "       [0.52312954, 0.47687046],\n",
       "       [0.47325578, 0.52674422],\n",
       "       [0.47622083, 0.52377917],\n",
       "       [0.50369987, 0.49630013],\n",
       "       [0.50382373, 0.49617627],\n",
       "       [0.47585011, 0.52414989],\n",
       "       [0.48215577, 0.51784423],\n",
       "       [0.46609841, 0.53390159],\n",
       "       [0.48834334, 0.51165666],\n",
       "       [0.52411821, 0.47588179],\n",
       "       [0.46770154, 0.53229846],\n",
       "       [0.51397673, 0.48602327],\n",
       "       [0.47807486, 0.52192514],\n",
       "       [0.46585183, 0.53414817],\n",
       "       [0.47078633, 0.52921367],\n",
       "       [0.51867838, 0.48132162],\n",
       "       [0.51521428, 0.48478572],\n",
       "       [0.47486163, 0.52513837],\n",
       "       [0.47597368, 0.52402632],\n",
       "       [0.52300594, 0.47699406],\n",
       "       [0.47943487, 0.52056513],\n",
       "       [0.51174872, 0.48825128],\n",
       "       [0.4665916 , 0.5334084 ],\n",
       "       [0.49787851, 0.50212149],\n",
       "       [0.52424179, 0.47575821],\n",
       "       [0.49292454, 0.50707546],\n",
       "       [0.48054783, 0.51945217],\n",
       "       [0.52300594, 0.47699406],\n",
       "       [0.47819848, 0.52180152],\n",
       "       [0.52967576, 0.47032424],\n",
       "       [0.51422426, 0.48577574],\n",
       "       [0.48463025, 0.51536975],\n",
       "       [0.48809575, 0.51190425],\n",
       "       [0.47399687, 0.52600313],\n",
       "       [0.51805992, 0.48194008],\n",
       "       [0.49502986, 0.50497014],\n",
       "       [0.53337678, 0.46662322],\n",
       "       [0.50332831, 0.49667169],\n",
       "       [0.51719397, 0.48280603],\n",
       "       [0.46893517, 0.53106483],\n",
       "       [0.52374748, 0.47625252],\n",
       "       [0.52139893, 0.47860107],\n",
       "       [0.53350009, 0.46649991],\n",
       "       [0.46609841, 0.53390159],\n",
       "       [0.52028612, 0.47971388],\n",
       "       [0.47622083, 0.52377917],\n",
       "       [0.48178468, 0.51821532],\n",
       "       [0.51966781, 0.48033219],\n",
       "       [0.4725148 , 0.5274852 ],\n",
       "       [0.49540141, 0.50459859],\n",
       "       [0.50258517, 0.49741483],\n",
       "       [0.48425903, 0.51574097],\n",
       "       [0.52807094, 0.47192906],\n",
       "       [0.5086535 , 0.4913465 ],\n",
       "       [0.47239131, 0.52760869],\n",
       "       [0.4665916 , 0.5334084 ],\n",
       "       [0.51484304, 0.48515696],\n",
       "       [0.52448892, 0.47551108],\n",
       "       [0.47597368, 0.52402632],\n",
       "       [0.51929679, 0.48070321]])"
      ]
     },
     "execution_count": 110,
     "metadata": {},
     "output_type": "execute_result"
    }
   ],
   "execution_count": 110
  },
  {
   "metadata": {
    "ExecuteTime": {
     "end_time": "2024-11-13T02:59:03.226480Z",
     "start_time": "2024-11-13T02:59:03.224222Z"
    }
   },
   "cell_type": "code",
   "source": [
    "y_pred = model1.predict(X_test_scaled)\n",
    "print(\"predicted class are \", y_pred)"
   ],
   "id": "ccc45af19ee38e12",
   "outputs": [
    {
     "name": "stdout",
     "output_type": "stream",
     "text": [
      "predicted class are  [1 1 0 0 0 1 1 1 0 0 1 1 0 1 0 1 0 0 1 1 0 0 0 1 0 1 1 0 0 1 1 1 0 0 0 1 1\n",
      " 1 1 1 1 0 0 1 1 1 0 1 0 1 1 1 1 1 1 0 0 0 1 1 1 1 1 0 0 0 0 1 1 1 0 1 0 1\n",
      " 1 1 1 0 0 1 0 1 1 1 0 1 0 1 0 0 0 0 1 0 0 1 0 0 1 0 0 1 1 0 0 1 0 1 0 0 1\n",
      " 1 0 1 0 0 1 1 0 0 0 1 0 0 1 0 1 1 1 0 0 0 1 1 0 0 0 0 1 1 0 0 1 0 1 1 1 0\n",
      " 1 1 1 0 0 1 1 0 1 1 1 1 1 1 0 0 1 1 0 1 0 0 0 0 0 0 0 0 0 0 0 1 1 0 1 1 0\n",
      " 1 1 1 1 0 1 0 1 0 1 1 0 0 1 1 1 1 0 1 0 1 1 1 0 0 1 1 0 1 0 1 1 0 1 1 0 1\n",
      " 0 0 1 1 1 0 1 0 0 0 1 0 0 0 1 0 1 1 0 1 1 0 1 0 0 1 1 0 0 1 0]\n"
     ]
    }
   ],
   "execution_count": 111
  },
  {
   "metadata": {
    "ExecuteTime": {
     "end_time": "2024-11-13T02:59:04.092238Z",
     "start_time": "2024-11-13T02:59:04.087111Z"
    }
   },
   "cell_type": "code",
   "source": [
    "from sklearn import metrics\n",
    "\n",
    "confusion_matrix = metrics.confusion_matrix(y_test, y_pred)\n",
    "print(confusion_matrix)"
   ],
   "id": "b5559fe6f992223a",
   "outputs": [
    {
     "name": "stdout",
     "output_type": "stream",
     "text": [
      "[[55 66]\n",
      " [65 67]]\n"
     ]
    }
   ],
   "execution_count": 112
  },
  {
   "metadata": {
    "ExecuteTime": {
     "end_time": "2024-11-13T02:40:21.717593Z",
     "start_time": "2024-11-13T02:40:21.710413Z"
    }
   },
   "cell_type": "code",
   "source": "print(metrics.classification_report(y_test, y_pred, target_names=['class1', 'class2']))",
   "id": "360e224a6963a209",
   "outputs": [
    {
     "name": "stdout",
     "output_type": "stream",
     "text": [
      "              precision    recall  f1-score   support\n",
      "\n",
      "      class1       0.89      1.00      0.94       225\n",
      "      class2       0.00      0.00      0.00        28\n",
      "\n",
      "    accuracy                           0.89       253\n",
      "   macro avg       0.44      0.50      0.47       253\n",
      "weighted avg       0.79      0.89      0.84       253\n",
      "\n"
     ]
    },
    {
     "name": "stderr",
     "output_type": "stream",
     "text": [
      "/Users/minseokkang/projects/statistic_project/statistic_venv/lib/python3.11/site-packages/sklearn/metrics/_classification.py:1531: UndefinedMetricWarning: Precision is ill-defined and being set to 0.0 in labels with no predicted samples. Use `zero_division` parameter to control this behavior.\n",
      "  _warn_prf(average, modifier, f\"{metric.capitalize()} is\", len(result))\n",
      "/Users/minseokkang/projects/statistic_project/statistic_venv/lib/python3.11/site-packages/sklearn/metrics/_classification.py:1531: UndefinedMetricWarning: Precision is ill-defined and being set to 0.0 in labels with no predicted samples. Use `zero_division` parameter to control this behavior.\n",
      "  _warn_prf(average, modifier, f\"{metric.capitalize()} is\", len(result))\n",
      "/Users/minseokkang/projects/statistic_project/statistic_venv/lib/python3.11/site-packages/sklearn/metrics/_classification.py:1531: UndefinedMetricWarning: Precision is ill-defined and being set to 0.0 in labels with no predicted samples. Use `zero_division` parameter to control this behavior.\n",
      "  _warn_prf(average, modifier, f\"{metric.capitalize()} is\", len(result))\n"
     ]
    }
   ],
   "execution_count": 41
  },
  {
   "metadata": {},
   "cell_type": "code",
   "outputs": [],
   "execution_count": null,
   "source": "",
   "id": "afe24ccef277f735"
  }
 ],
 "metadata": {
  "kernelspec": {
   "display_name": "Python 3",
   "language": "python",
   "name": "python3"
  },
  "language_info": {
   "codemirror_mode": {
    "name": "ipython",
    "version": 2
   },
   "file_extension": ".py",
   "mimetype": "text/x-python",
   "name": "python",
   "nbconvert_exporter": "python",
   "pygments_lexer": "ipython2",
   "version": "2.7.6"
  }
 },
 "nbformat": 4,
 "nbformat_minor": 5
}
